{
  "nbformat": 4,
  "nbformat_minor": 0,
  "metadata": {
    "colab": {
      "provenance": []
    },
    "kernelspec": {
      "name": "python3",
      "display_name": "Python 3"
    },
    "language_info": {
      "name": "python"
    }
  },
  "cells": [
    {
      "cell_type": "code",
      "execution_count": null,
      "metadata": {
        "id": "EfELrhTOvtkq"
      },
      "outputs": [],
      "source": [
        "### TUPLES ###\n",
        "\n",
        "\n",
        "# definicion\n",
        "\n",
        "my_tuple = tuple()\n",
        "my_other_tuple = ()\n",
        "\n",
        "my_tuple = (35,1.77,\"fermin\",\"garcia\", }\"profesor\")\n",
        "my_other_tuple = (35,60,30)\n",
        "\n",
        "print(my_tuple)\n",
        "print(type(my_tuple))\n",
        "\n",
        "# Acceso a elementos y busqueda\n",
        "\n",
        "print(my_tuple[0])\n",
        "print(my tuple[-1])\n",
        "# print(my_tuple[5])# IndexError\n",
        "# print(my_tuple[-6])#IndexError\n",
        "\n",
        "\n",
        "print(my_tuple.count(\"fermin\"))\n",
        "print(my_tuple.count(\"garcia\"))\n",
        "print(my_tuple.count(\"profesor\"))\n",
        "\n",
        "# my_tuple[1] = 1.80 # 'tuple' odject does not support item assignment\n",
        "\n",
        "# Concatenacion\n",
        "\n",
        "my_sum_tuple + my_other_tuple\n",
        "print(my_sum_tuple)\n",
        "\n",
        "# Subtuple\n",
        "\n",
        "print(my_sum_tuple[3.6])\n",
        "\n",
        "# tuple mutable con conversion a lista\n",
        "\n",
        " my_tuple = list( my_tuple)\n",
        " print(type(my_tuple))\n",
        "\n",
        "my_tuple = (35,1.77,\"fermin\",\"garcia\",\"garcia\",\"profesor\")\n",
        "my_other_tuple = (35,60,30)\n",
        "my_tuple[4] = \"cecytem\"\n",
        "my_other.insert(1,\"azul\")\n",
        "my_tuple =tuple(my_tuple)\n",
        "print(my_tuple)\n",
        "print(type(my_tuple))\n",
        "\n",
        "# Eliminacion\n",
        "\n",
        "# del my_tuple[2] TypeError:'tuple' odject doesn't support intem deletion\n",
        "\n",
        "del my_tuple\n",
        "#print(my_tuple) NameError:name 'my_tuple' is not defined\n"
      ]
    }
  ]
}